{
 "cells": [
  {
   "cell_type": "code",
   "execution_count": 1,
   "metadata": {},
   "outputs": [],
   "source": [
    "import os\n",
    "import importlib\n",
    "\n",
    "import config\n",
    "import gpt\n",
    "import AbstractModel\n",
    "\n",
    "importlib.reload(config)\n",
    "importlib.reload(gpt)\n",
    "importlib.reload(AbstractModel)\n",
    "config.source_dot_env()\n",
    "\n",
    "\n",
    "from openai import OpenAI\n",
    "# client = OpenAI(api_key=os.getenv(\"OPENAI_API_KEY\"))\n",
    "# model = \"gpt-3.5-turbo\"\n",
    "# prompt = \"haiku in dutch about deep learning\"\n",
    "# max_tokens = 500\n",
    "\n",
    "\n",
    "# completion = client.chat.completions.create(\n",
    "#     model=model,\n",
    "#     messages=[{\"role\": \"user\", \"content\": prompt}],\n",
    "#     max_tokens=max_tokens,\n",
    "# )"
   ]
  },
  {
   "cell_type": "code",
   "execution_count": 2,
   "metadata": {},
   "outputs": [],
   "source": [
    "# model = gpt.GPTModel()\n",
    "# outputs, meta = model([\"haiku in dutch about deep learning\", \"short poem in spanish about cheese\"])\n",
    "# print(outputs)\n",
    "# print(f\"price = ${model.compute_price(meta)}\")"
   ]
  },
  {
   "cell_type": "code",
   "execution_count": 5,
   "metadata": {},
   "outputs": [
    {
     "name": "stdout",
     "output_type": "stream",
     "text": [
      "['Diep leren ontbrandt\\nNeuronen vuren snel\\nWijsheid groeit gestaag', 'Queso amado, dulce manjar,\\nen tu sabor encuentro paz,\\nqueso fresco, queso curado,\\nen cada bocado soy inundado.\\n\\nCon pan o vino te disfruto,\\nen una tabla o en un tazón,\\nqueso, eres mi más fiel tributo,\\nmi delicia, mi pasión.\\n\\nQueso, joya de la gastronomía,\\nte venero con devoción,\\nporque contigo, mi alegría\\nes pura y completa emoción.']\n",
      "price = $0.0002225\n"
     ]
    }
   ],
   "source": []
  },
  {
   "cell_type": "code",
   "execution_count": 16,
   "metadata": {},
   "outputs": [],
   "source": [
    "import random\n",
    "PROMPT_SYTHNETIC_SMART = \"\"\"\n",
    "You're a student taking a course where you're tasked with writing a SMART goal defining your perosonal learning objective for the course.\n",
    "A SMART learning goal must be Specific, Measurable, Action-oriented, Relevant, and Time-bound as described further below:\n",
    "\n",
    "Specific: Concrete and unambiguous definition of the goal: is it clear what you want to achieve?\n",
    "\n",
    "Measurable: It is clear what information you use to determine whether the learning objective has been achieved. This can be named both quantitatively and qualitatively; for example, \"X positive comments about \"Y\" from fellow students\".\n",
    "\n",
    "Action-oriented: It is clear what behaviour you exhibit when you have achieved your goal.\n",
    "\n",
    "Relevant: The learning objective is based on your own analysis and fits within the assessment criteria.\n",
    "\n",
    "Time-bound: The learning objective specifically indicates when the goal is achieved and is realistic for a 4-week project.\n",
    "\n",
    "\n",
    "Furthermore, an \"action plan\" for a SMART goal should:\n",
    "* contain concrete actions you will carry out to achieve your goal.\n",
    "* Include how you will collect information on your progress in the meantime, so that you know whether you are on the right track and can make any necessary adjustments in the meantime.\n",
    "* Be clear and follow logically from the formulated learning objective  .\n",
    "* Be achievable within the stipulated time.\n",
    "* Allow for interim evaluation and adjustment.\n",
    "\n",
    "\n",
    "Your response should contain a SMART goal written from your perspective as a student, as well as an appropriate action plan, formatted like the example below (all as plain text with no markdown formatting).\n",
    "\n",
    "Example response follows:\n",
    "Learning objective: \"My goal is to make eye contact with the audience during my video pitch and literature presentation to better engage the viewer with my story. In the video pitch, I do this by looking closely into the camera most of the time and in the literature presentation by alternately looking at the different people in the audience, both my fellow students and teachers.\"\n",
    "Action plan: \"I will achieve this by not memorising my story verbatim, but rather by using keywords and by practising looking into the camera and making video recordings of this during the preparation of my pitch. I also practise my literature presentation dry where my group mates sit on opposite sides of the room. In the video recordings and feedback from my group mates afterwards, I will check whether I indeed make good eye contact\"\n",
    "\n",
    "If we analyse this learning objective as an example with the aforementioned criteria: we see that it is indeed SMART in its formulation:\n",
    "Specifics: Making eye contact with the audience\n",
    "Measurable: It is clear how this can be measured, as you can see in a video recording or ask the audience if eye contact is indeed made -> family or friends you can also ask for feedback!\n",
    "Action-oriented: It is clear exactly what you are doing when the goal is achieved: \"looking well into the camera most of the time\", and \"alternating between looking at different people in the audience\".\n",
    "Relevant: \"Making eye contact\" fits within the assessment criterion \"non-verbal communication\" and can be found on the inspiration list for key sub-skills in presentation [see assessment criteria].\n",
    "Time-bound: \"during my video pitch and literature presentation\"\n",
    "\n",
    "And Analyzing the sample action plan we see it specifically indicates which steps are taken in preparation (\"don't literally memorise\", \"make video recordings and check if people are looking into the camera\", and \"by asking feedback from group members after a live presentation\"). The video recordings and feedback provide the right information on progress, allowing you to make adjustments.\n",
    "\n",
    "In your case the goal you're writing should focus on '{skill}' (for example {skill_description}).\n",
    "Now respond only with a SMART goal written from your perspective as a student as well as an appropriate action plan.\n",
    "\"\"\".strip()\n",
    "\n",
    "# List of sub-skills for presenting to inspire you in setting your personal learning goal:\n",
    "SKILLS = {\n",
    "    \"Clarity in communication\": \"The ability to explain complex concepts and ideas in a simple and understandable way, but also to use effective signal and reference words to involve the audience in the story\",\n",
    "\n",
    "    \"Structure of the presentation\": \"The ability to structure a presentation logically and coherently, with a clear introduction, middle and conclusion, and to make clear connections between different parts.\",\n",
    "\n",
    "    \"Language use\": \"The ability to use precise, clear and professional language, including the appropriate use of scientific terminology. Spaces between sentences are not filled with distracting filler words, but rather used strategically to get the message across to the audience.\",\n",
    "\n",
    "    \"Time management and speaking pace\": \"The ability to use an appropriate pace of speech that is comfortable for the audience to follow and that fits the story within time without missing important points.\",\n",
    "\n",
    "    \"Pitch and intonation\": \"Using different pitches and intonation to make the presentation more engaging and understandable. Intonations can also be used to place emphasis on a specific part of a sentence to better guide the audience through the story.\",\n",
    "\n",
    "    \"Voice volume\": \"The ability to use the voice in such a way that everyone can hear the presentation clearly.\",\n",
    "\n",
    "    \"Non-verbal communication\": \"Eye contact: the ability to make contact with the audience and involve them in the story by consciously looking at them (e.g. looking into the camera) and distributing attention evenly across the audience\",\n",
    "\n",
    "    \"Facial Expression: The ability to use facial expressions to give an accessible presentation (e.g., friendly smile) and to emphasize what is being said (e.g., by using facial expressions).\":\" \",\n",
    "\n",
    "    # TODO: \"[see also the knowledge clip about hand gestures and body language]\":\n",
    "    \"Hand gestures\": \"The ability to use hand gestures that support and thereby reinforce the spoken message. Consider, for example, counting with the hands when 3 main points are mentioned, or emphasizing the 'one' versus the 'other' side of the matter, etc. !.\",\n",
    "}\n",
    "\n",
    "\n",
    "model = gpt.GPTModel() # gpt 3\n",
    "#model = gpt.GPTModel(\"gpt-4-0125-preview\")\n",
    "skills = []\n",
    "prompts = []\n",
    "for i in range(20):\n",
    "    skill = random.choice(list(SKILLS.keys()))\n",
    "    skill_description = SKILLS[skill]\n",
    "    skills.append(skill)\n",
    "\n",
    "    prompt = PROMPT_SYTHNETIC_SMART.format(skill=skill, skill_description=skill_description)\n",
    "    #print(\"\\n\\n\", prompt)\n",
    "    prompts.append(prompt)\n",
    "\n",
    "outputs, meta = model(prompts)"
   ]
  },
  {
   "cell_type": "code",
   "execution_count": 17,
   "metadata": {},
   "outputs": [],
   "source": [
    "import csv\n",
    "\n",
    "# Define the header for the CSV file\n",
    "header = ['Skill', 'Output']\n",
    "\n",
    "# Create a list of rows to write to the CSV file\n",
    "rows = []\n",
    "for output, skill in zip(outputs, skills):\n",
    "    rows.append([skill, output])\n",
    "\n",
    "# Write the rows to the CSV file\n",
    "with open('synthetic_smart.csv', 'w', newline='') as file:\n",
    "    writer = csv.writer(file)\n",
    "    writer.writerow(header)\n",
    "    writer.writerows(rows)\n"
   ]
  },
  {
   "cell_type": "code",
   "execution_count": 18,
   "metadata": {},
   "outputs": [
    {
     "name": "stdout",
     "output_type": "stream",
     "text": [
      "price = $0.0117775\n",
      "Learning objective: \"My goal is to enhance my language use by using precise, clear, and professional language, including the appropriate use of scientific terminology, in my written assignments and class discussions in order to effectively communicate complex ideas to my audience.\"\n",
      "\n",
      "Action plan: I will achieve this by first identifying key scientific terminology relevant to the course material and incorporating it into my assignments and class discussions. I will also practice writing concise sentences and actively eliminating filler words to ensure the clarity and professionalism of my language use. In addition, I will seek feedback from my peers and instructors on my language use to track my progress and make necessary adjustments.\n"
     ]
    }
   ],
   "source": [
    "# gpt 3:\n",
    "print(f\"price = ${model.compute_price(meta)}\")\n",
    "print(outputs[0])"
   ]
  },
  {
   "cell_type": "code",
   "execution_count": 11,
   "metadata": {},
   "outputs": [
    {
     "name": "stdout",
     "output_type": "stream",
     "text": [
      "price = $0.02441\n",
      "Learning Objective: My goal is to enhance my understanding and application of statistical analysis using Python, specifically by completing a project where I accurately apply at least three different statistical methods—such as regression analysis, ANOVA, and chi-squared tests—to a dataset by the end of this 4-week course. This will not only demonstrate my proficiency in Python for statistical applications but also improve my ability to interpret data outcomes effectively, contributing to my overall course performance.\n",
      "\n",
      "Action Plan:\n",
      "1. **Week 1:** \n",
      "   - **Identify and Gather Resources:** Research and compile a list of resources—books, online tutorials, and academic papers—that cover the use of Python for statistical analysis, with a focus on regression analysis, ANOVA, and chi-squared tests.\n",
      "   - **Begin Learning:** Start with regression analysis by reading selected materials and practising coding examples. Create a log to track hours spent studying and coding, along with notes on concepts learned and difficulties encountered.\n",
      "\n",
      "2. **Week 2:**\n",
      "   - **Continue Learning:** Move on to studying ANOVA and chi-squared tests using the collected resources. Keep updating the study and coding log to monitor progress.\n",
      "   - **Dataset Selection:** Choose a dataset that is relevant to the statistical methods being studied and conducive to a comprehensive analysis using these methods.\n",
      "\n",
      "3. **Week 3:**\n",
      "   - **Apply Learning:** Begin applying the three statistical methods to the chosen dataset. Document the process, including the code, the steps taken to apply each method, and the initial findings. \n",
      "   - **Seek Feedback:** Share the intermediate results and code with a study group or mentor for feedback on the correctness of the application and interpretations.\n",
      "\n",
      "4. **Week 4:**\n",
      "   - **Refine and Finalize:** Incorporate feedback received and refine the analysis. Ensure the statistical methods are applied accurately and the data interpretation is valid.\n",
      "   - **Prepare a Presentation:** Summarize the project, findings, and learning experience in a presentation format. Include challenges faced, how they were addressed, and the significance of the findings.\n",
      "   - **Presentation and Review:** Present the project to peers or instructors and engage in a Q&A session for further feedback and discussion. Document any insights gained from this session for future learning.\n",
      "\n",
      "**Measuring Progress and Adjustments:**\n",
      "- **Weekly Reviews:** At the end of each week, review the study and coding log to assess progress against the plan. Adjust the next week's goals as needed based on the current pace and understanding.\n",
      "- **Feedback Implementation:** Act on the feedback received during the project to improve both the statistical analysis and the coding technique. Note any recurring issues to focus on for future improvement.\n",
      "- **Final Assessment:** Evaluate the completed project against the initial goal: the accurate application of the three statistical methods and effective data interpretation. Reflect on the learning process, achievements, and areas for further development.\n"
     ]
    }
   ],
   "source": [
    "print(f\"price = ${model.compute_price(meta)}\")\n",
    "print(outputs[0])"
   ]
  }
 ],
 "metadata": {
  "kernelspec": {
   "display_name": ".venv",
   "language": "python",
   "name": "python3"
  },
  "language_info": {
   "codemirror_mode": {
    "name": "ipython",
    "version": 3
   },
   "file_extension": ".py",
   "mimetype": "text/x-python",
   "name": "python",
   "nbconvert_exporter": "python",
   "pygments_lexer": "ipython3",
   "version": "3.11.8"
  }
 },
 "nbformat": 4,
 "nbformat_minor": 2
}
